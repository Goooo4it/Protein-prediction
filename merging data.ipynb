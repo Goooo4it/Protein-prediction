{
 "cells": [
  {
   "cell_type": "markdown",
   "metadata": {},
   "source": [
    "# Importing and cleaning data\n",
    "\n",
    "Data source: https://www.kaggle.com/competitions/cafa-5-protein-function-prediction/data "
   ]
  },
  {
   "cell_type": "markdown",
   "metadata": {},
   "source": [
    "First, run the following code in the conda environment to prevent exceeding the IOPub data rate for loading fasta files and then reopen the kernel:\n",
    "\n",
    "jupyter notebook --NotebookApp.iopub_data_rate_limit=1.0e8\n",
    "\n",
    "And make sure all packages are installed:\n",
    "- pip install biopython\n",
    "- pip install pandas\n",
    "- pip install obonet\n"
   ]
  },
  {
   "cell_type": "code",
   "execution_count": 2,
   "metadata": {},
   "outputs": [
    {
     "name": "stdout",
     "output_type": "stream",
     "text": [
      "Collecting biopython\n",
      "  Downloading biopython-1.81-cp37-cp37m-win_amd64.whl (2.7 MB)\n",
      "Requirement already satisfied: numpy in c:\\users\\yumeng\\anaconda3\\lib\\site-packages (from biopython) (1.18.1)\n",
      "Installing collected packages: biopython\n",
      "Successfully installed biopython-1.81\n",
      "Note: you may need to restart the kernel to use updated packages.\n"
     ]
    }
   ],
   "source": [
    "pip install biopython"
   ]
  },
  {
   "cell_type": "code",
   "execution_count": 4,
   "metadata": {},
   "outputs": [
    {
     "name": "stdout",
     "output_type": "stream",
     "text": [
      "Collecting obonet\n",
      "  Downloading obonet-1.0.0-py3-none-any.whl (9.2 kB)\n",
      "Requirement already satisfied: networkx in c:\\users\\yumeng\\anaconda3\\lib\\site-packages (from obonet) (2.4)\n",
      "Requirement already satisfied: decorator>=4.3.0 in c:\\users\\yumeng\\anaconda3\\lib\\site-packages (from networkx->obonet) (4.4.1)\n",
      "Installing collected packages: obonet\n",
      "Successfully installed obonet-1.0.0\n",
      "Note: you may need to restart the kernel to use updated packages.\n"
     ]
    }
   ],
   "source": [
    "pip install obonet"
   ]
  },
  {
   "cell_type": "code",
   "execution_count": 5,
   "metadata": {},
   "outputs": [],
   "source": [
    "# load packages\n",
    "from Bio import SeqIO\n",
    "import pandas as pd\n",
    "import obonet as obo"
   ]
  },
  {
   "cell_type": "code",
   "execution_count": 7,
   "metadata": {},
   "outputs": [
    {
     "data": {
      "text/html": [
       "<div>\n",
       "<style scoped>\n",
       "    .dataframe tbody tr th:only-of-type {\n",
       "        vertical-align: middle;\n",
       "    }\n",
       "\n",
       "    .dataframe tbody tr th {\n",
       "        vertical-align: top;\n",
       "    }\n",
       "\n",
       "    .dataframe thead th {\n",
       "        text-align: right;\n",
       "    }\n",
       "</style>\n",
       "<table border=\"1\" class=\"dataframe\">\n",
       "  <thead>\n",
       "    <tr style=\"text-align: right;\">\n",
       "      <th></th>\n",
       "      <th>go_term</th>\n",
       "      <th>name</th>\n",
       "      <th>namespace</th>\n",
       "    </tr>\n",
       "  </thead>\n",
       "  <tbody>\n",
       "    <tr>\n",
       "      <th>0</th>\n",
       "      <td>GO:0000001</td>\n",
       "      <td>mitochondrion inheritance</td>\n",
       "      <td>biological_process</td>\n",
       "    </tr>\n",
       "    <tr>\n",
       "      <th>1</th>\n",
       "      <td>GO:0000002</td>\n",
       "      <td>mitochondrial genome maintenance</td>\n",
       "      <td>biological_process</td>\n",
       "    </tr>\n",
       "    <tr>\n",
       "      <th>2</th>\n",
       "      <td>GO:0000003</td>\n",
       "      <td>reproduction</td>\n",
       "      <td>biological_process</td>\n",
       "    </tr>\n",
       "    <tr>\n",
       "      <th>3</th>\n",
       "      <td>GO:0000006</td>\n",
       "      <td>high-affinity zinc transmembrane transporter a...</td>\n",
       "      <td>molecular_function</td>\n",
       "    </tr>\n",
       "    <tr>\n",
       "      <th>4</th>\n",
       "      <td>GO:0000007</td>\n",
       "      <td>low-affinity zinc ion transmembrane transporte...</td>\n",
       "      <td>molecular_function</td>\n",
       "    </tr>\n",
       "  </tbody>\n",
       "</table>\n",
       "</div>"
      ],
      "text/plain": [
       "      go_term                                               name  \\\n",
       "0  GO:0000001                          mitochondrion inheritance   \n",
       "1  GO:0000002                   mitochondrial genome maintenance   \n",
       "2  GO:0000003                                       reproduction   \n",
       "3  GO:0000006  high-affinity zinc transmembrane transporter a...   \n",
       "4  GO:0000007  low-affinity zinc ion transmembrane transporte...   \n",
       "\n",
       "            namespace  \n",
       "0  biological_process  \n",
       "1  biological_process  \n",
       "2  biological_process  \n",
       "3  molecular_function  \n",
       "4  molecular_function  "
      ]
     },
     "execution_count": 7,
     "metadata": {},
     "output_type": "execute_result"
    }
   ],
   "source": [
    "# import go-basic.obo\n",
    "graph = obo.read_obo('cafa-5-protein-function-prediction/Train/go-basic.obo')\n",
    "\n",
    "# Convert the graph to a DataFrame and reset the index\n",
    "go = pd.DataFrame.from_dict(graph.nodes, orient='index').reset_index()\n",
    "go1 = go.rename(columns={go.columns[0]: 'go_term'})\n",
    "\n",
    "# Keep only important columns\n",
    "go = go1[['go_term', 'name', 'namespace']]\n",
    "go.head()\n"
   ]
  },
  {
   "cell_type": "code",
   "execution_count": 8,
   "metadata": {},
   "outputs": [
    {
     "data": {
      "text/html": [
       "<div>\n",
       "<style scoped>\n",
       "    .dataframe tbody tr th:only-of-type {\n",
       "        vertical-align: middle;\n",
       "    }\n",
       "\n",
       "    .dataframe tbody tr th {\n",
       "        vertical-align: top;\n",
       "    }\n",
       "\n",
       "    .dataframe thead th {\n",
       "        text-align: right;\n",
       "    }\n",
       "</style>\n",
       "<table border=\"1\" class=\"dataframe\">\n",
       "  <thead>\n",
       "    <tr style=\"text-align: right;\">\n",
       "      <th></th>\n",
       "      <th>go_term</th>\n",
       "      <th>name</th>\n",
       "      <th>namespace</th>\n",
       "      <th>def</th>\n",
       "      <th>synonym</th>\n",
       "      <th>is_a</th>\n",
       "      <th>alt_id</th>\n",
       "      <th>subset</th>\n",
       "      <th>xref</th>\n",
       "      <th>relationship</th>\n",
       "      <th>comment</th>\n",
       "    </tr>\n",
       "  </thead>\n",
       "  <tbody>\n",
       "    <tr>\n",
       "      <th>0</th>\n",
       "      <td>GO:0000001</td>\n",
       "      <td>mitochondrion inheritance</td>\n",
       "      <td>biological_process</td>\n",
       "      <td>\"The distribution of mitochondria, including t...</td>\n",
       "      <td>[\"mitochondrial inheritance\" EXACT []]</td>\n",
       "      <td>[GO:0048308, GO:0048311]</td>\n",
       "      <td>NaN</td>\n",
       "      <td>NaN</td>\n",
       "      <td>NaN</td>\n",
       "      <td>NaN</td>\n",
       "      <td>NaN</td>\n",
       "    </tr>\n",
       "    <tr>\n",
       "      <th>1</th>\n",
       "      <td>GO:0000002</td>\n",
       "      <td>mitochondrial genome maintenance</td>\n",
       "      <td>biological_process</td>\n",
       "      <td>\"The maintenance of the structure and integrit...</td>\n",
       "      <td>NaN</td>\n",
       "      <td>[GO:0007005]</td>\n",
       "      <td>NaN</td>\n",
       "      <td>NaN</td>\n",
       "      <td>NaN</td>\n",
       "      <td>NaN</td>\n",
       "      <td>NaN</td>\n",
       "    </tr>\n",
       "    <tr>\n",
       "      <th>2</th>\n",
       "      <td>GO:0000003</td>\n",
       "      <td>reproduction</td>\n",
       "      <td>biological_process</td>\n",
       "      <td>\"The production of new individuals that contai...</td>\n",
       "      <td>[\"reproductive physiological process\" EXACT []]</td>\n",
       "      <td>[GO:0008150]</td>\n",
       "      <td>[GO:0019952, GO:0050876]</td>\n",
       "      <td>[goslim_agr, goslim_chembl, goslim_flybase_rib...</td>\n",
       "      <td>[Wikipedia:Reproduction]</td>\n",
       "      <td>NaN</td>\n",
       "      <td>NaN</td>\n",
       "    </tr>\n",
       "    <tr>\n",
       "      <th>3</th>\n",
       "      <td>GO:0000006</td>\n",
       "      <td>high-affinity zinc transmembrane transporter a...</td>\n",
       "      <td>molecular_function</td>\n",
       "      <td>\"Enables the transfer of zinc ions (Zn2+) from...</td>\n",
       "      <td>[\"high affinity zinc uptake transmembrane tran...</td>\n",
       "      <td>[GO:0005385]</td>\n",
       "      <td>NaN</td>\n",
       "      <td>NaN</td>\n",
       "      <td>NaN</td>\n",
       "      <td>NaN</td>\n",
       "      <td>NaN</td>\n",
       "    </tr>\n",
       "    <tr>\n",
       "      <th>4</th>\n",
       "      <td>GO:0000007</td>\n",
       "      <td>low-affinity zinc ion transmembrane transporte...</td>\n",
       "      <td>molecular_function</td>\n",
       "      <td>\"Enables the transfer of a solute or solutes f...</td>\n",
       "      <td>NaN</td>\n",
       "      <td>[GO:0005385]</td>\n",
       "      <td>NaN</td>\n",
       "      <td>NaN</td>\n",
       "      <td>NaN</td>\n",
       "      <td>NaN</td>\n",
       "      <td>NaN</td>\n",
       "    </tr>\n",
       "  </tbody>\n",
       "</table>\n",
       "</div>"
      ],
      "text/plain": [
       "      go_term                                               name  \\\n",
       "0  GO:0000001                          mitochondrion inheritance   \n",
       "1  GO:0000002                   mitochondrial genome maintenance   \n",
       "2  GO:0000003                                       reproduction   \n",
       "3  GO:0000006  high-affinity zinc transmembrane transporter a...   \n",
       "4  GO:0000007  low-affinity zinc ion transmembrane transporte...   \n",
       "\n",
       "            namespace                                                def  \\\n",
       "0  biological_process  \"The distribution of mitochondria, including t...   \n",
       "1  biological_process  \"The maintenance of the structure and integrit...   \n",
       "2  biological_process  \"The production of new individuals that contai...   \n",
       "3  molecular_function  \"Enables the transfer of zinc ions (Zn2+) from...   \n",
       "4  molecular_function  \"Enables the transfer of a solute or solutes f...   \n",
       "\n",
       "                                             synonym  \\\n",
       "0             [\"mitochondrial inheritance\" EXACT []]   \n",
       "1                                                NaN   \n",
       "2    [\"reproductive physiological process\" EXACT []]   \n",
       "3  [\"high affinity zinc uptake transmembrane tran...   \n",
       "4                                                NaN   \n",
       "\n",
       "                       is_a                    alt_id  \\\n",
       "0  [GO:0048308, GO:0048311]                       NaN   \n",
       "1              [GO:0007005]                       NaN   \n",
       "2              [GO:0008150]  [GO:0019952, GO:0050876]   \n",
       "3              [GO:0005385]                       NaN   \n",
       "4              [GO:0005385]                       NaN   \n",
       "\n",
       "                                              subset  \\\n",
       "0                                                NaN   \n",
       "1                                                NaN   \n",
       "2  [goslim_agr, goslim_chembl, goslim_flybase_rib...   \n",
       "3                                                NaN   \n",
       "4                                                NaN   \n",
       "\n",
       "                       xref relationship comment  \n",
       "0                       NaN          NaN     NaN  \n",
       "1                       NaN          NaN     NaN  \n",
       "2  [Wikipedia:Reproduction]          NaN     NaN  \n",
       "3                       NaN          NaN     NaN  \n",
       "4                       NaN          NaN     NaN  "
      ]
     },
     "execution_count": 8,
     "metadata": {},
     "output_type": "execute_result"
    }
   ],
   "source": [
    "go1.head()"
   ]
  },
  {
   "cell_type": "code",
   "execution_count": 9,
   "metadata": {},
   "outputs": [
    {
     "data": {
      "text/html": [
       "<div>\n",
       "<style scoped>\n",
       "    .dataframe tbody tr th:only-of-type {\n",
       "        vertical-align: middle;\n",
       "    }\n",
       "\n",
       "    .dataframe tbody tr th {\n",
       "        vertical-align: top;\n",
       "    }\n",
       "\n",
       "    .dataframe thead th {\n",
       "        text-align: right;\n",
       "    }\n",
       "</style>\n",
       "<table border=\"1\" class=\"dataframe\">\n",
       "  <thead>\n",
       "    <tr style=\"text-align: right;\">\n",
       "      <th></th>\n",
       "      <th>seq_id</th>\n",
       "      <th>sequence</th>\n",
       "    </tr>\n",
       "  </thead>\n",
       "  <tbody>\n",
       "    <tr>\n",
       "      <th>0</th>\n",
       "      <td>P20536</td>\n",
       "      <td>MNSVTVSHAPYTITYHDDWEPVMSQLVEFYNEVASWLLRDETSPIP...</td>\n",
       "    </tr>\n",
       "    <tr>\n",
       "      <th>1</th>\n",
       "      <td>O73864</td>\n",
       "      <td>MTEYRNFLLLFITSLSVIYPCTGISWLGLTINGSSVGWNQTHHCKL...</td>\n",
       "    </tr>\n",
       "    <tr>\n",
       "      <th>2</th>\n",
       "      <td>O95231</td>\n",
       "      <td>MRLSSSPPRGPQQLSSFGSVDWLSQSSCSGPTHTPRPADFSLGSLP...</td>\n",
       "    </tr>\n",
       "    <tr>\n",
       "      <th>3</th>\n",
       "      <td>A0A0B4J1F4</td>\n",
       "      <td>MGGEAGADGPRGRVKSLGLVFEDESKGCYSSGETVAGHVLLEAAEP...</td>\n",
       "    </tr>\n",
       "    <tr>\n",
       "      <th>4</th>\n",
       "      <td>P54366</td>\n",
       "      <td>MVETNSPPAGYTLKRSPSDLGEQQQPPRQISRSPGNTAAYHLTTAM...</td>\n",
       "    </tr>\n",
       "  </tbody>\n",
       "</table>\n",
       "</div>"
      ],
      "text/plain": [
       "       seq_id                                           sequence\n",
       "0      P20536  MNSVTVSHAPYTITYHDDWEPVMSQLVEFYNEVASWLLRDETSPIP...\n",
       "1      O73864  MTEYRNFLLLFITSLSVIYPCTGISWLGLTINGSSVGWNQTHHCKL...\n",
       "2      O95231  MRLSSSPPRGPQQLSSFGSVDWLSQSSCSGPTHTPRPADFSLGSLP...\n",
       "3  A0A0B4J1F4  MGGEAGADGPRGRVKSLGLVFEDESKGCYSSGETVAGHVLLEAAEP...\n",
       "4      P54366  MVETNSPPAGYTLKRSPSDLGEQQQPPRQISRSPGNTAAYHLTTAM..."
      ]
     },
     "execution_count": 9,
     "metadata": {},
     "output_type": "execute_result"
    }
   ],
   "source": [
    "# import train_sequences.fasta\n",
    "\n",
    "fasta_train = 'cafa-5-protein-function-prediction/Train/train_sequences.fasta'\n",
    "\n",
    "train_sequences = []\n",
    "\n",
    "# Open the FASTA file and iterate over each record\n",
    "for record in SeqIO.parse(fasta_train, \"fasta\"):\n",
    "    # Retrieve the sequence ID and sequence\n",
    "    seq_id = record.id\n",
    "    sequence = str(record.seq)\n",
    "    \n",
    "    # Append the sequence ID and sequence as a tuple to the list\n",
    "    train_sequences.append((seq_id, sequence))\n",
    "\n",
    "# convert to dataframe\n",
    "trainset = pd.DataFrame(train_sequences, columns=['seq_id', 'sequence'])\n",
    "trainset.head()"
   ]
  },
  {
   "cell_type": "code",
   "execution_count": 10,
   "metadata": {},
   "outputs": [
    {
     "data": {
      "text/html": [
       "<div>\n",
       "<style scoped>\n",
       "    .dataframe tbody tr th:only-of-type {\n",
       "        vertical-align: middle;\n",
       "    }\n",
       "\n",
       "    .dataframe tbody tr th {\n",
       "        vertical-align: top;\n",
       "    }\n",
       "\n",
       "    .dataframe thead th {\n",
       "        text-align: right;\n",
       "    }\n",
       "</style>\n",
       "<table border=\"1\" class=\"dataframe\">\n",
       "  <thead>\n",
       "    <tr style=\"text-align: right;\">\n",
       "      <th></th>\n",
       "      <th>EntryID</th>\n",
       "      <th>taxonomyID</th>\n",
       "    </tr>\n",
       "  </thead>\n",
       "  <tbody>\n",
       "    <tr>\n",
       "      <th>55474</th>\n",
       "      <td>Q77CC7</td>\n",
       "      <td>79889</td>\n",
       "    </tr>\n",
       "    <tr>\n",
       "      <th>53657</th>\n",
       "      <td>Q802Y8</td>\n",
       "      <td>7955</td>\n",
       "    </tr>\n",
       "    <tr>\n",
       "      <th>80442</th>\n",
       "      <td>P69739</td>\n",
       "      <td>83333</td>\n",
       "    </tr>\n",
       "    <tr>\n",
       "      <th>26040</th>\n",
       "      <td>A2RSY6</td>\n",
       "      <td>10090</td>\n",
       "    </tr>\n",
       "    <tr>\n",
       "      <th>42271</th>\n",
       "      <td>Q8BHC1</td>\n",
       "      <td>10090</td>\n",
       "    </tr>\n",
       "  </tbody>\n",
       "</table>\n",
       "</div>"
      ],
      "text/plain": [
       "      EntryID  taxonomyID\n",
       "55474  Q77CC7       79889\n",
       "53657  Q802Y8        7955\n",
       "80442  P69739       83333\n",
       "26040  A2RSY6       10090\n",
       "42271  Q8BHC1       10090"
      ]
     },
     "execution_count": 10,
     "metadata": {},
     "output_type": "execute_result"
    }
   ],
   "source": [
    "# import train_taxonomy.tsv\n",
    "train_taxon_ID = pd.read_csv(\"cafa-5-protein-function-prediction/Train/train_taxonomy.tsv\", sep=\"\\t\")\n",
    "train_taxon_ID.sample(5)"
   ]
  },
  {
   "cell_type": "code",
   "execution_count": 14,
   "metadata": {},
   "outputs": [
    {
     "data": {
      "text/html": [
       "<div>\n",
       "<style scoped>\n",
       "    .dataframe tbody tr th:only-of-type {\n",
       "        vertical-align: middle;\n",
       "    }\n",
       "\n",
       "    .dataframe tbody tr th {\n",
       "        vertical-align: top;\n",
       "    }\n",
       "\n",
       "    .dataframe thead th {\n",
       "        text-align: right;\n",
       "    }\n",
       "</style>\n",
       "<table border=\"1\" class=\"dataframe\">\n",
       "  <thead>\n",
       "    <tr style=\"text-align: right;\">\n",
       "      <th></th>\n",
       "      <th>EntryID</th>\n",
       "      <th>term</th>\n",
       "      <th>aspect</th>\n",
       "    </tr>\n",
       "  </thead>\n",
       "  <tbody>\n",
       "    <tr>\n",
       "      <th>1055189</th>\n",
       "      <td>P14137</td>\n",
       "      <td>GO:0007584</td>\n",
       "      <td>BPO</td>\n",
       "    </tr>\n",
       "    <tr>\n",
       "      <th>2327802</th>\n",
       "      <td>Q6NUY5</td>\n",
       "      <td>GO:0045595</td>\n",
       "      <td>BPO</td>\n",
       "    </tr>\n",
       "    <tr>\n",
       "      <th>173300</th>\n",
       "      <td>A0A8I6B0P9</td>\n",
       "      <td>GO:0050789</td>\n",
       "      <td>BPO</td>\n",
       "    </tr>\n",
       "    <tr>\n",
       "      <th>1785759</th>\n",
       "      <td>Q07152</td>\n",
       "      <td>GO:0120036</td>\n",
       "      <td>BPO</td>\n",
       "    </tr>\n",
       "    <tr>\n",
       "      <th>4138287</th>\n",
       "      <td>Q18194</td>\n",
       "      <td>GO:0043229</td>\n",
       "      <td>CCO</td>\n",
       "    </tr>\n",
       "  </tbody>\n",
       "</table>\n",
       "</div>"
      ],
      "text/plain": [
       "            EntryID        term aspect\n",
       "1055189      P14137  GO:0007584    BPO\n",
       "2327802      Q6NUY5  GO:0045595    BPO\n",
       "173300   A0A8I6B0P9  GO:0050789    BPO\n",
       "1785759      Q07152  GO:0120036    BPO\n",
       "4138287      Q18194  GO:0043229    CCO"
      ]
     },
     "execution_count": 14,
     "metadata": {},
     "output_type": "execute_result"
    }
   ],
   "source": [
    "# import train_terms.tsv\n",
    "train_terms = pd.read_csv(\"cafa-5-protein-function-prediction/Train/train_terms.tsv\", sep=\"\\t\")\n",
    "train_terms.sample(5)"
   ]
  },
  {
   "cell_type": "code",
   "execution_count": 31,
   "metadata": {},
   "outputs": [
    {
     "data": {
      "text/plain": [
       "142246"
      ]
     },
     "execution_count": 31,
     "metadata": {},
     "output_type": "execute_result"
    }
   ],
   "source": [
    "len(trainset['seq_id'])"
   ]
  },
  {
   "cell_type": "code",
   "execution_count": 44,
   "metadata": {},
   "outputs": [
    {
     "name": "stdout",
     "output_type": "stream",
     "text": [
      "rows_train_terms 5363863\n",
      "different_id_train_terms 142246\n"
     ]
    },
    {
     "data": {
      "text/plain": [
       "Q02248    815\n",
       "Q62226    736\n",
       "Q01705    721\n",
       "P22725    709\n",
       "P01137    668\n",
       "         ... \n",
       "P22179      2\n",
       "C1BFM5      2\n",
       "Q9NI45      2\n",
       "O39491      2\n",
       "F1R8A4      2\n",
       "Name: EntryID, Length: 142246, dtype: int64"
      ]
     },
     "execution_count": 44,
     "metadata": {},
     "output_type": "execute_result"
    }
   ],
   "source": [
    "#len(train_terms[EntryID]) = len(trainset['seq_id']) = 142246\n",
    "print('rows_train_terms',len(train_terms['EntryID']))\n",
    "print('different_id_train_terms',len(set(train_terms['EntryID'])))\n",
    "\n",
    "#some EntryIDs have many terms(GO:...)\n",
    "train_terms['EntryID'].value_counts().sort_values(ascending=False)"
   ]
  },
  {
   "cell_type": "code",
   "execution_count": 47,
   "metadata": {},
   "outputs": [
    {
     "data": {
      "text/html": [
       "<div>\n",
       "<style scoped>\n",
       "    .dataframe tbody tr th:only-of-type {\n",
       "        vertical-align: middle;\n",
       "    }\n",
       "\n",
       "    .dataframe tbody tr th {\n",
       "        vertical-align: top;\n",
       "    }\n",
       "\n",
       "    .dataframe thead th {\n",
       "        text-align: right;\n",
       "    }\n",
       "</style>\n",
       "<table border=\"1\" class=\"dataframe\">\n",
       "  <thead>\n",
       "    <tr style=\"text-align: right;\">\n",
       "      <th></th>\n",
       "      <th>EntryID</th>\n",
       "      <th>term</th>\n",
       "      <th>aspect</th>\n",
       "    </tr>\n",
       "  </thead>\n",
       "  <tbody>\n",
       "    <tr>\n",
       "      <th>0</th>\n",
       "      <td>A0A009IHW8</td>\n",
       "      <td>0008152</td>\n",
       "      <td>BPO</td>\n",
       "    </tr>\n",
       "    <tr>\n",
       "      <th>1</th>\n",
       "      <td>A0A009IHW8</td>\n",
       "      <td>0034655</td>\n",
       "      <td>BPO</td>\n",
       "    </tr>\n",
       "    <tr>\n",
       "      <th>2</th>\n",
       "      <td>A0A009IHW8</td>\n",
       "      <td>0072523</td>\n",
       "      <td>BPO</td>\n",
       "    </tr>\n",
       "    <tr>\n",
       "      <th>3</th>\n",
       "      <td>A0A009IHW8</td>\n",
       "      <td>0044270</td>\n",
       "      <td>BPO</td>\n",
       "    </tr>\n",
       "    <tr>\n",
       "      <th>4</th>\n",
       "      <td>A0A009IHW8</td>\n",
       "      <td>0006753</td>\n",
       "      <td>BPO</td>\n",
       "    </tr>\n",
       "  </tbody>\n",
       "</table>\n",
       "</div>"
      ],
      "text/plain": [
       "      EntryID     term aspect\n",
       "0  A0A009IHW8  0008152    BPO\n",
       "1  A0A009IHW8  0034655    BPO\n",
       "2  A0A009IHW8  0072523    BPO\n",
       "3  A0A009IHW8  0044270    BPO\n",
       "4  A0A009IHW8  0006753    BPO"
      ]
     },
     "execution_count": 47,
     "metadata": {},
     "output_type": "execute_result"
    }
   ],
   "source": [
    "train_term = train_terms.copy()\n",
    "train_term['term'] = train_term['term'].apply(lambda x: x[3:])\n",
    "train_term.head()"
   ]
  },
  {
   "cell_type": "code",
   "execution_count": 42,
   "metadata": {},
   "outputs": [
    {
     "data": {
      "text/plain": [
       "str"
      ]
     },
     "execution_count": 42,
     "metadata": {},
     "output_type": "execute_result"
    }
   ],
   "source": [
    "type(train_terms['term'][0])"
   ]
  },
  {
   "cell_type": "code",
   "execution_count": 15,
   "metadata": {},
   "outputs": [
    {
     "data": {
      "text/plain": [
       "BPO    3497732\n",
       "CCO    1196017\n",
       "MFO     670114\n",
       "Name: aspect, dtype: int64"
      ]
     },
     "execution_count": 15,
     "metadata": {},
     "output_type": "execute_result"
    }
   ],
   "source": [
    "train_terms['aspect'].value_counts().sort_values(ascending=False)"
   ]
  },
  {
   "cell_type": "code",
   "execution_count": 16,
   "metadata": {},
   "outputs": [
    {
     "data": {
      "text/plain": [
       "GO:0005575    92912\n",
       "GO:0008150    92210\n",
       "GO:0110165    91286\n",
       "GO:0003674    78637\n",
       "GO:0005622    70785\n",
       "              ...  \n",
       "GO:0050439        1\n",
       "GO:0047470        1\n",
       "GO:0033942        1\n",
       "GO:0047921        1\n",
       "GO:0102628        1\n",
       "Name: term, Length: 31466, dtype: int64"
      ]
     },
     "execution_count": 16,
     "metadata": {},
     "output_type": "execute_result"
    }
   ],
   "source": [
    "train_terms['term'].value_counts().sort_values(ascending=False)"
   ]
  },
  {
   "cell_type": "code",
   "execution_count": 21,
   "metadata": {},
   "outputs": [
    {
     "data": {
      "text/plain": [
       "31466"
      ]
     },
     "execution_count": 21,
     "metadata": {},
     "output_type": "execute_result"
    }
   ],
   "source": [
    "set1 = set(train_terms['term'])\n",
    "len(set1)"
   ]
  },
  {
   "cell_type": "code",
   "execution_count": 18,
   "metadata": {},
   "outputs": [
    {
     "data": {
      "text/html": [
       "<div>\n",
       "<style scoped>\n",
       "    .dataframe tbody tr th:only-of-type {\n",
       "        vertical-align: middle;\n",
       "    }\n",
       "\n",
       "    .dataframe tbody tr th {\n",
       "        vertical-align: top;\n",
       "    }\n",
       "\n",
       "    .dataframe thead th {\n",
       "        text-align: right;\n",
       "    }\n",
       "</style>\n",
       "<table border=\"1\" class=\"dataframe\">\n",
       "  <thead>\n",
       "    <tr style=\"text-align: right;\">\n",
       "      <th></th>\n",
       "      <th>go_term</th>\n",
       "      <th>ia_score</th>\n",
       "    </tr>\n",
       "  </thead>\n",
       "  <tbody>\n",
       "    <tr>\n",
       "      <th>0</th>\n",
       "      <td>GO:0000001</td>\n",
       "      <td>0.000000</td>\n",
       "    </tr>\n",
       "    <tr>\n",
       "      <th>1</th>\n",
       "      <td>GO:0000002</td>\n",
       "      <td>3.103836</td>\n",
       "    </tr>\n",
       "    <tr>\n",
       "      <th>2</th>\n",
       "      <td>GO:0000003</td>\n",
       "      <td>3.439404</td>\n",
       "    </tr>\n",
       "    <tr>\n",
       "      <th>3</th>\n",
       "      <td>GO:0000011</td>\n",
       "      <td>0.056584</td>\n",
       "    </tr>\n",
       "    <tr>\n",
       "      <th>4</th>\n",
       "      <td>GO:0000012</td>\n",
       "      <td>6.400377</td>\n",
       "    </tr>\n",
       "  </tbody>\n",
       "</table>\n",
       "</div>"
      ],
      "text/plain": [
       "      go_term  ia_score\n",
       "0  GO:0000001  0.000000\n",
       "1  GO:0000002  3.103836\n",
       "2  GO:0000003  3.439404\n",
       "3  GO:0000011  0.056584\n",
       "4  GO:0000012  6.400377"
      ]
     },
     "execution_count": 18,
     "metadata": {},
     "output_type": "execute_result"
    }
   ],
   "source": [
    "# import IA.txt\n",
    "IA = pd.read_csv(\"cafa-5-protein-function-prediction/IA.txt\", delimiter='\\t', header=None)\n",
    "IA = IA.rename(columns={IA.columns[0]: 'go_term', IA.columns[1]: 'ia_score'})\n",
    "IA.head()"
   ]
  },
  {
   "cell_type": "code",
   "execution_count": 20,
   "metadata": {},
   "outputs": [
    {
     "data": {
      "text/plain": [
       "43248"
      ]
     },
     "execution_count": 20,
     "metadata": {},
     "output_type": "execute_result"
    }
   ],
   "source": [
    "set2 = set(IA['go_term'])\n",
    "len(set2)"
   ]
  },
  {
   "cell_type": "code",
   "execution_count": 23,
   "metadata": {},
   "outputs": [
    {
     "data": {
      "text/plain": [
       "11782"
      ]
     },
     "execution_count": 23,
     "metadata": {},
     "output_type": "execute_result"
    }
   ],
   "source": [
    "len(set2-set1)"
   ]
  },
  {
   "cell_type": "code",
   "execution_count": 24,
   "metadata": {},
   "outputs": [
    {
     "data": {
      "text/plain": [
       "31466"
      ]
     },
     "execution_count": 24,
     "metadata": {},
     "output_type": "execute_result"
    }
   ],
   "source": [
    "43248-11782"
   ]
  },
  {
   "cell_type": "code",
   "execution_count": 67,
   "metadata": {},
   "outputs": [
    {
     "data": {
      "text/html": [
       "<div>\n",
       "<style scoped>\n",
       "    .dataframe tbody tr th:only-of-type {\n",
       "        vertical-align: middle;\n",
       "    }\n",
       "\n",
       "    .dataframe tbody tr th {\n",
       "        vertical-align: top;\n",
       "    }\n",
       "\n",
       "    .dataframe thead th {\n",
       "        text-align: right;\n",
       "    }\n",
       "</style>\n",
       "<table border=\"1\" class=\"dataframe\">\n",
       "  <thead>\n",
       "    <tr style=\"text-align: right;\">\n",
       "      <th></th>\n",
       "      <th>seq_id</th>\n",
       "      <th>sequence</th>\n",
       "    </tr>\n",
       "  </thead>\n",
       "  <tbody>\n",
       "    <tr>\n",
       "      <th>0</th>\n",
       "      <td>Q9CQV8</td>\n",
       "      <td>MTMDKSELVQKAKLAEQAERYDDMAAAMKAVTEQGHELSNEERNLL...</td>\n",
       "    </tr>\n",
       "    <tr>\n",
       "      <th>1</th>\n",
       "      <td>P62259</td>\n",
       "      <td>MDDREDLVYQAKLAEQAERYDEMVESMKKVAGMDVELTVEERNLLS...</td>\n",
       "    </tr>\n",
       "    <tr>\n",
       "      <th>2</th>\n",
       "      <td>P68510</td>\n",
       "      <td>MGDREQLLQRARLAEQAERYDDMASAMKAVTELNEPLSNEDRNLLS...</td>\n",
       "    </tr>\n",
       "    <tr>\n",
       "      <th>3</th>\n",
       "      <td>P61982</td>\n",
       "      <td>MVDREQLVQKARLAEQAERYDDMAAAMKNVTELNEPLSNEERNLLS...</td>\n",
       "    </tr>\n",
       "    <tr>\n",
       "      <th>4</th>\n",
       "      <td>O70456</td>\n",
       "      <td>MERASLIQKAKLAEQAERYEDMAAFMKSAVEKGEELSCEERNLLSV...</td>\n",
       "    </tr>\n",
       "  </tbody>\n",
       "</table>\n",
       "</div>"
      ],
      "text/plain": [
       "   seq_id                                           sequence\n",
       "0  Q9CQV8  MTMDKSELVQKAKLAEQAERYDDMAAAMKAVTEQGHELSNEERNLL...\n",
       "1  P62259  MDDREDLVYQAKLAEQAERYDEMVESMKKVAGMDVELTVEERNLLS...\n",
       "2  P68510  MGDREQLLQRARLAEQAERYDDMASAMKAVTELNEPLSNEDRNLLS...\n",
       "3  P61982  MVDREQLVQKARLAEQAERYDDMAAAMKNVTELNEPLSNEERNLLS...\n",
       "4  O70456  MERASLIQKAKLAEQAERYEDMAAFMKSAVEKGEELSCEERNLLSV..."
      ]
     },
     "execution_count": 67,
     "metadata": {},
     "output_type": "execute_result"
    }
   ],
   "source": [
    "# import testsuperset.fasta\n",
    "fasta_test = 'cafa-5-protein-function-prediction/Test (Targets)/testsuperset.fasta'\n",
    "\n",
    "testsuperset = []\n",
    "\n",
    "# Open the FASTA file and iterate over each record\n",
    "for record in SeqIO.parse(fasta_test, \"fasta\"):\n",
    "    # Retrieve the sequence ID and sequence\n",
    "    seq_id = record.id\n",
    "    sequence = str(record.seq)\n",
    "    \n",
    "    # Append the sequence ID and sequence as a tuple to the list\n",
    "    testsuperset.append((seq_id, sequence))\n",
    "\n",
    "# convert to dataframe\n",
    "testset = pd.DataFrame(testsuperset, columns=['seq_id', 'sequence'])\n",
    "testset.head()"
   ]
  },
  {
   "cell_type": "code",
   "execution_count": 74,
   "metadata": {},
   "outputs": [
    {
     "data": {
      "text/html": [
       "<div>\n",
       "<style scoped>\n",
       "    .dataframe tbody tr th:only-of-type {\n",
       "        vertical-align: middle;\n",
       "    }\n",
       "\n",
       "    .dataframe tbody tr th {\n",
       "        vertical-align: top;\n",
       "    }\n",
       "\n",
       "    .dataframe thead th {\n",
       "        text-align: right;\n",
       "    }\n",
       "</style>\n",
       "<table border=\"1\" class=\"dataframe\">\n",
       "  <thead>\n",
       "    <tr style=\"text-align: right;\">\n",
       "      <th></th>\n",
       "      <th>ID</th>\n",
       "      <th>Species</th>\n",
       "    </tr>\n",
       "  </thead>\n",
       "  <tbody>\n",
       "    <tr>\n",
       "      <th>43</th>\n",
       "      <td>508771</td>\n",
       "      <td>Toxoplasma gondii ME49</td>\n",
       "    </tr>\n",
       "    <tr>\n",
       "      <th>64</th>\n",
       "      <td>193080</td>\n",
       "      <td>Rhabdophis tigrinus tigrinus (snakes)</td>\n",
       "    </tr>\n",
       "    <tr>\n",
       "      <th>16</th>\n",
       "      <td>85962</td>\n",
       "      <td>Helicobacter pylori 26695</td>\n",
       "    </tr>\n",
       "    <tr>\n",
       "      <th>34</th>\n",
       "      <td>284812</td>\n",
       "      <td>Schizosaccharomyces pombe 972h-</td>\n",
       "    </tr>\n",
       "    <tr>\n",
       "      <th>40</th>\n",
       "      <td>426428</td>\n",
       "      <td>Fusarium oxysporum f. sp. lycopersici 4287 [as...</td>\n",
       "    </tr>\n",
       "  </tbody>\n",
       "</table>\n",
       "</div>"
      ],
      "text/plain": [
       "        ID                                            Species\n",
       "43  508771                             Toxoplasma gondii ME49\n",
       "64  193080              Rhabdophis tigrinus tigrinus (snakes)\n",
       "16   85962                          Helicobacter pylori 26695\n",
       "34  284812                    Schizosaccharomyces pombe 972h-\n",
       "40  426428  Fusarium oxysporum f. sp. lycopersici 4287 [as..."
      ]
     },
     "execution_count": 74,
     "metadata": {},
     "output_type": "execute_result"
    }
   ],
   "source": [
    "# import testsuperset-taxon-list.tsv\n",
    "test_taxon = pd.read_csv(\"cafa-5-protein-function-prediction/Test (Targets)/testsuperset-taxon-list.tsv\", sep=\"\\t\", encoding=\"latin-1\")\n",
    "test_taxon.sample(5)"
   ]
  },
  {
   "cell_type": "code",
   "execution_count": 49,
   "metadata": {},
   "outputs": [
    {
     "data": {
      "text/html": [
       "<div>\n",
       "<style scoped>\n",
       "    .dataframe tbody tr th:only-of-type {\n",
       "        vertical-align: middle;\n",
       "    }\n",
       "\n",
       "    .dataframe tbody tr th {\n",
       "        vertical-align: top;\n",
       "    }\n",
       "\n",
       "    .dataframe thead th {\n",
       "        text-align: right;\n",
       "    }\n",
       "</style>\n",
       "<table border=\"1\" class=\"dataframe\">\n",
       "  <thead>\n",
       "    <tr style=\"text-align: right;\">\n",
       "      <th></th>\n",
       "      <th>seq_id</th>\n",
       "      <th>sequence</th>\n",
       "      <th>term</th>\n",
       "      <th>aspect</th>\n",
       "    </tr>\n",
       "  </thead>\n",
       "  <tbody>\n",
       "    <tr>\n",
       "      <th>0</th>\n",
       "      <td>P20536</td>\n",
       "      <td>MNSVTVSHAPYTITYHDDWEPVMSQLVEFYNEVASWLLRDETSPIP...</td>\n",
       "      <td>0008152</td>\n",
       "      <td>BPO</td>\n",
       "    </tr>\n",
       "    <tr>\n",
       "      <th>1</th>\n",
       "      <td>P20536</td>\n",
       "      <td>MNSVTVSHAPYTITYHDDWEPVMSQLVEFYNEVASWLLRDETSPIP...</td>\n",
       "      <td>0071897</td>\n",
       "      <td>BPO</td>\n",
       "    </tr>\n",
       "    <tr>\n",
       "      <th>2</th>\n",
       "      <td>P20536</td>\n",
       "      <td>MNSVTVSHAPYTITYHDDWEPVMSQLVEFYNEVASWLLRDETSPIP...</td>\n",
       "      <td>0044249</td>\n",
       "      <td>BPO</td>\n",
       "    </tr>\n",
       "    <tr>\n",
       "      <th>3</th>\n",
       "      <td>P20536</td>\n",
       "      <td>MNSVTVSHAPYTITYHDDWEPVMSQLVEFYNEVASWLLRDETSPIP...</td>\n",
       "      <td>0006259</td>\n",
       "      <td>BPO</td>\n",
       "    </tr>\n",
       "    <tr>\n",
       "      <th>4</th>\n",
       "      <td>P20536</td>\n",
       "      <td>MNSVTVSHAPYTITYHDDWEPVMSQLVEFYNEVASWLLRDETSPIP...</td>\n",
       "      <td>0009059</td>\n",
       "      <td>BPO</td>\n",
       "    </tr>\n",
       "  </tbody>\n",
       "</table>\n",
       "</div>"
      ],
      "text/plain": [
       "   seq_id                                           sequence     term aspect\n",
       "0  P20536  MNSVTVSHAPYTITYHDDWEPVMSQLVEFYNEVASWLLRDETSPIP...  0008152    BPO\n",
       "1  P20536  MNSVTVSHAPYTITYHDDWEPVMSQLVEFYNEVASWLLRDETSPIP...  0071897    BPO\n",
       "2  P20536  MNSVTVSHAPYTITYHDDWEPVMSQLVEFYNEVASWLLRDETSPIP...  0044249    BPO\n",
       "3  P20536  MNSVTVSHAPYTITYHDDWEPVMSQLVEFYNEVASWLLRDETSPIP...  0006259    BPO\n",
       "4  P20536  MNSVTVSHAPYTITYHDDWEPVMSQLVEFYNEVASWLLRDETSPIP...  0009059    BPO"
      ]
     },
     "execution_count": 49,
     "metadata": {},
     "output_type": "execute_result"
    }
   ],
   "source": [
    "# after merging trainset and train_terms, and transforming GO:... term into digits, we get the following dataframe. \n",
    "merge = pd.merge(trainset, train_term, left_on = 'seq_id', right_on = 'EntryID', how = 'inner')\n",
    "merge.drop('EntryID', axis = 1, inplace = True)\n",
    "merge['term'].apply(lambda x: [int(digit) for digit in x])\n",
    "merge.head()"
   ]
  },
  {
   "cell_type": "code",
   "execution_count": 54,
   "metadata": {},
   "outputs": [
    {
     "data": {
      "text/plain": [
       "str"
      ]
     },
     "execution_count": 54,
     "metadata": {},
     "output_type": "execute_result"
    }
   ],
   "source": [
    "type(merge['term'][0])"
   ]
  },
  {
   "cell_type": "code",
   "execution_count": 51,
   "metadata": {},
   "outputs": [
    {
     "data": {
      "text/plain": [
       "'0008152'"
      ]
     },
     "execution_count": 51,
     "metadata": {},
     "output_type": "execute_result"
    }
   ],
   "source": [
    "merge['term'][0]"
   ]
  },
  {
   "cell_type": "code",
   "execution_count": 53,
   "metadata": {},
   "outputs": [
    {
     "name": "stdout",
     "output_type": "stream",
     "text": [
      "0\n",
      "0\n",
      "0\n",
      "8\n",
      "1\n",
      "5\n",
      "2\n"
     ]
    }
   ],
   "source": [
    "for digit in merge['term'][0]:\n"
   ]
  },
  {
   "cell_type": "code",
   "execution_count": 39,
   "metadata": {},
   "outputs": [
    {
     "data": {
      "text/plain": [
       "5363863"
      ]
     },
     "execution_count": 39,
     "metadata": {},
     "output_type": "execute_result"
    }
   ],
   "source": [
    "len(merge)"
   ]
  },
  {
   "cell_type": "code",
   "execution_count": 91,
   "metadata": {},
   "outputs": [
    {
     "name": "stdout",
     "output_type": "stream",
     "text": [
      "go: \n",
      " go_term      0\n",
      "name         0\n",
      "namespace    0\n",
      "dtype: int64 \n",
      "\n",
      "trainset: \n",
      " seq_id      0\n",
      "sequence    0\n",
      "dtype: int64 \n",
      "\n",
      "train_taxon_ID: \n",
      " EntryID       0\n",
      "taxonomyID    0\n",
      "dtype: int64 \n",
      "\n",
      "train_terms: \n",
      " EntryID    0\n",
      "term       0\n",
      "aspect     0\n",
      "dtype: int64 \n",
      "\n",
      "IA: \n",
      " go_term     0\n",
      "ia_score    0\n",
      "dtype: int64 \n",
      "\n",
      "testset: \n",
      " seq_id      0\n",
      "sequence    0\n",
      "dtype: int64 \n",
      "\n",
      "test_taxon: \n",
      " ID         0\n",
      "Species    0\n",
      "dtype: int64 \n",
      "\n"
     ]
    }
   ],
   "source": [
    "# check for missing data\n",
    "print('go: \\n', go.isna().sum(), '\\n')\n",
    "print('trainset: \\n', trainset.isna().sum(), '\\n')\n",
    "print('train_taxon_ID: \\n', train_taxon_ID.isna().sum(), '\\n')\n",
    "print('train_terms: \\n', train_terms.isna().sum(), '\\n')\n",
    "print('IA: \\n', IA.isna().sum(), '\\n')\n",
    "print('testset: \\n', testset.isna().sum(), '\\n')\n",
    "print('test_taxon: \\n', test_taxon.isna().sum(), '\\n')\n"
   ]
  }
 ],
 "metadata": {
  "kernelspec": {
   "display_name": "Python 3",
   "language": "python",
   "name": "python3"
  },
  "language_info": {
   "codemirror_mode": {
    "name": "ipython",
    "version": 3
   },
   "file_extension": ".py",
   "mimetype": "text/x-python",
   "name": "python",
   "nbconvert_exporter": "python",
   "pygments_lexer": "ipython3",
   "version": "3.7.6"
  }
 },
 "nbformat": 4,
 "nbformat_minor": 5
}
